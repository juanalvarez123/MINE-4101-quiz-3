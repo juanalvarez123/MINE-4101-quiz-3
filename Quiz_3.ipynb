{
  "nbformat": 4,
  "nbformat_minor": 0,
  "metadata": {
    "colab": {
      "provenance": [],
      "collapsed_sections": [],
      "toc_visible": true
    },
    "kernelspec": {
      "name": "python3",
      "display_name": "Python 3"
    },
    "language_info": {
      "name": "python"
    }
  },
  "cells": [
    {
      "cell_type": "markdown",
      "source": [
        "# Quiz 3\n",
        "\n",
        "Juan Sebastian Alvarez Eraso\n",
        "\n",
        "Código: 201822427"
      ],
      "metadata": {
        "id": "jOwxBDcQ1DRh"
      }
    },
    {
      "cell_type": "markdown",
      "source": [
        "## Limpieza de datos"
      ],
      "metadata": {
        "id": "KHHm1RVN14md"
      }
    },
    {
      "cell_type": "code",
      "source": [
        "import pandas as pd\n",
        "\n",
        "df = pd.read_csv('https://raw.githubusercontent.com/juanalvarez123/MINE-4101-quiz-3/main/Dataset/insurance.csv', sep = ',')\n",
        "\n",
        "# Imprimo el dataset\n",
        "df.head(5)"
      ],
      "metadata": {
        "colab": {
          "base_uri": "https://localhost:8080/",
          "height": 206
        },
        "id": "31G97Zf917IX",
        "outputId": "c39ef9be-98af-4db7-f357-1c41239bda40"
      },
      "execution_count": 1,
      "outputs": [
        {
          "output_type": "execute_result",
          "data": {
            "text/plain": [
              "   age     sex     bmi  children smoker     region      charges\n",
              "0   19  female  27.900         0    yes  southwest  16884.92400\n",
              "1   18    male  33.770         1     no  southeast   1725.55230\n",
              "2   28    male  33.000         3     no  southeast   4449.46200\n",
              "3   33    male  22.705         0     no  northwest  21984.47061\n",
              "4   32    male  28.880         0     no  northwest   3866.85520"
            ],
            "text/html": [
              "\n",
              "  <div id=\"df-0715cf9d-b16a-472b-a6a7-7c43f595a251\">\n",
              "    <div class=\"colab-df-container\">\n",
              "      <div>\n",
              "<style scoped>\n",
              "    .dataframe tbody tr th:only-of-type {\n",
              "        vertical-align: middle;\n",
              "    }\n",
              "\n",
              "    .dataframe tbody tr th {\n",
              "        vertical-align: top;\n",
              "    }\n",
              "\n",
              "    .dataframe thead th {\n",
              "        text-align: right;\n",
              "    }\n",
              "</style>\n",
              "<table border=\"1\" class=\"dataframe\">\n",
              "  <thead>\n",
              "    <tr style=\"text-align: right;\">\n",
              "      <th></th>\n",
              "      <th>age</th>\n",
              "      <th>sex</th>\n",
              "      <th>bmi</th>\n",
              "      <th>children</th>\n",
              "      <th>smoker</th>\n",
              "      <th>region</th>\n",
              "      <th>charges</th>\n",
              "    </tr>\n",
              "  </thead>\n",
              "  <tbody>\n",
              "    <tr>\n",
              "      <th>0</th>\n",
              "      <td>19</td>\n",
              "      <td>female</td>\n",
              "      <td>27.900</td>\n",
              "      <td>0</td>\n",
              "      <td>yes</td>\n",
              "      <td>southwest</td>\n",
              "      <td>16884.92400</td>\n",
              "    </tr>\n",
              "    <tr>\n",
              "      <th>1</th>\n",
              "      <td>18</td>\n",
              "      <td>male</td>\n",
              "      <td>33.770</td>\n",
              "      <td>1</td>\n",
              "      <td>no</td>\n",
              "      <td>southeast</td>\n",
              "      <td>1725.55230</td>\n",
              "    </tr>\n",
              "    <tr>\n",
              "      <th>2</th>\n",
              "      <td>28</td>\n",
              "      <td>male</td>\n",
              "      <td>33.000</td>\n",
              "      <td>3</td>\n",
              "      <td>no</td>\n",
              "      <td>southeast</td>\n",
              "      <td>4449.46200</td>\n",
              "    </tr>\n",
              "    <tr>\n",
              "      <th>3</th>\n",
              "      <td>33</td>\n",
              "      <td>male</td>\n",
              "      <td>22.705</td>\n",
              "      <td>0</td>\n",
              "      <td>no</td>\n",
              "      <td>northwest</td>\n",
              "      <td>21984.47061</td>\n",
              "    </tr>\n",
              "    <tr>\n",
              "      <th>4</th>\n",
              "      <td>32</td>\n",
              "      <td>male</td>\n",
              "      <td>28.880</td>\n",
              "      <td>0</td>\n",
              "      <td>no</td>\n",
              "      <td>northwest</td>\n",
              "      <td>3866.85520</td>\n",
              "    </tr>\n",
              "  </tbody>\n",
              "</table>\n",
              "</div>\n",
              "      <button class=\"colab-df-convert\" onclick=\"convertToInteractive('df-0715cf9d-b16a-472b-a6a7-7c43f595a251')\"\n",
              "              title=\"Convert this dataframe to an interactive table.\"\n",
              "              style=\"display:none;\">\n",
              "        \n",
              "  <svg xmlns=\"http://www.w3.org/2000/svg\" height=\"24px\"viewBox=\"0 0 24 24\"\n",
              "       width=\"24px\">\n",
              "    <path d=\"M0 0h24v24H0V0z\" fill=\"none\"/>\n",
              "    <path d=\"M18.56 5.44l.94 2.06.94-2.06 2.06-.94-2.06-.94-.94-2.06-.94 2.06-2.06.94zm-11 1L8.5 8.5l.94-2.06 2.06-.94-2.06-.94L8.5 2.5l-.94 2.06-2.06.94zm10 10l.94 2.06.94-2.06 2.06-.94-2.06-.94-.94-2.06-.94 2.06-2.06.94z\"/><path d=\"M17.41 7.96l-1.37-1.37c-.4-.4-.92-.59-1.43-.59-.52 0-1.04.2-1.43.59L10.3 9.45l-7.72 7.72c-.78.78-.78 2.05 0 2.83L4 21.41c.39.39.9.59 1.41.59.51 0 1.02-.2 1.41-.59l7.78-7.78 2.81-2.81c.8-.78.8-2.07 0-2.86zM5.41 20L4 18.59l7.72-7.72 1.47 1.35L5.41 20z\"/>\n",
              "  </svg>\n",
              "      </button>\n",
              "      \n",
              "  <style>\n",
              "    .colab-df-container {\n",
              "      display:flex;\n",
              "      flex-wrap:wrap;\n",
              "      gap: 12px;\n",
              "    }\n",
              "\n",
              "    .colab-df-convert {\n",
              "      background-color: #E8F0FE;\n",
              "      border: none;\n",
              "      border-radius: 50%;\n",
              "      cursor: pointer;\n",
              "      display: none;\n",
              "      fill: #1967D2;\n",
              "      height: 32px;\n",
              "      padding: 0 0 0 0;\n",
              "      width: 32px;\n",
              "    }\n",
              "\n",
              "    .colab-df-convert:hover {\n",
              "      background-color: #E2EBFA;\n",
              "      box-shadow: 0px 1px 2px rgba(60, 64, 67, 0.3), 0px 1px 3px 1px rgba(60, 64, 67, 0.15);\n",
              "      fill: #174EA6;\n",
              "    }\n",
              "\n",
              "    [theme=dark] .colab-df-convert {\n",
              "      background-color: #3B4455;\n",
              "      fill: #D2E3FC;\n",
              "    }\n",
              "\n",
              "    [theme=dark] .colab-df-convert:hover {\n",
              "      background-color: #434B5C;\n",
              "      box-shadow: 0px 1px 3px 1px rgba(0, 0, 0, 0.15);\n",
              "      filter: drop-shadow(0px 1px 2px rgba(0, 0, 0, 0.3));\n",
              "      fill: #FFFFFF;\n",
              "    }\n",
              "  </style>\n",
              "\n",
              "      <script>\n",
              "        const buttonEl =\n",
              "          document.querySelector('#df-0715cf9d-b16a-472b-a6a7-7c43f595a251 button.colab-df-convert');\n",
              "        buttonEl.style.display =\n",
              "          google.colab.kernel.accessAllowed ? 'block' : 'none';\n",
              "\n",
              "        async function convertToInteractive(key) {\n",
              "          const element = document.querySelector('#df-0715cf9d-b16a-472b-a6a7-7c43f595a251');\n",
              "          const dataTable =\n",
              "            await google.colab.kernel.invokeFunction('convertToInteractive',\n",
              "                                                     [key], {});\n",
              "          if (!dataTable) return;\n",
              "\n",
              "          const docLinkHtml = 'Like what you see? Visit the ' +\n",
              "            '<a target=\"_blank\" href=https://colab.research.google.com/notebooks/data_table.ipynb>data table notebook</a>'\n",
              "            + ' to learn more about interactive tables.';\n",
              "          element.innerHTML = '';\n",
              "          dataTable['output_type'] = 'display_data';\n",
              "          await google.colab.output.renderOutput(dataTable, element);\n",
              "          const docLink = document.createElement('div');\n",
              "          docLink.innerHTML = docLinkHtml;\n",
              "          element.appendChild(docLink);\n",
              "        }\n",
              "      </script>\n",
              "    </div>\n",
              "  </div>\n",
              "  "
            ]
          },
          "metadata": {},
          "execution_count": 1
        }
      ]
    },
    {
      "cell_type": "code",
      "source": [
        "# Visualizo la cantidad de registros y columnas del dataset\n",
        "df.shape"
      ],
      "metadata": {
        "colab": {
          "base_uri": "https://localhost:8080/"
        },
        "id": "PuCKnAXS7GXn",
        "outputId": "42582b22-652a-499b-bff5-887630dc5958"
      },
      "execution_count": 2,
      "outputs": [
        {
          "output_type": "execute_result",
          "data": {
            "text/plain": [
              "(1338, 7)"
            ]
          },
          "metadata": {},
          "execution_count": 2
        }
      ]
    },
    {
      "cell_type": "code",
      "source": [
        "# Cambio la columna \"sex\" por valores con 0 y 1\n",
        "df['sex'] = df['sex'].apply(lambda x: 1 if x == 'male' else 0)\n",
        "\n",
        "# Cambio la columna \"smoker\" por valores con 0 y 1\n",
        "df['smoker'] = df['smoker'].apply(lambda x: 1 if x == 'smoker' else 0)"
      ],
      "metadata": {
        "id": "VBlsPYbI2LNb"
      },
      "execution_count": 3,
      "outputs": []
    },
    {
      "cell_type": "code",
      "source": [
        "# Codifico la columna \"region\"\n",
        "from sklearn.compose import ColumnTransformer\n",
        "from sklearn.preprocessing import OneHotEncoder\n",
        "\n",
        "# Con el parámetro \"drop ='first'\" se elimina una columna de cada feature y así se evita la multicolinealidad\n",
        "ct = ColumnTransformer(transformers =[('OneHotEncoder', OneHotEncoder(sparse = False, drop ='first'), ['region'])], remainder ='passthrough')\n",
        "df2 = ct.fit_transform(df)\n",
        "df2 = pd.DataFrame(data=df2, columns=ct.get_feature_names_out())\n",
        "\n",
        "# Imprimo el dataset\n",
        "df2.head(5)"
      ],
      "metadata": {
        "colab": {
          "base_uri": "https://localhost:8080/",
          "height": 270
        },
        "id": "wyLk5OpD2zhP",
        "outputId": "28a68b15-a613-4ede-c8c6-c009d76188b9"
      },
      "execution_count": 4,
      "outputs": [
        {
          "output_type": "execute_result",
          "data": {
            "text/plain": [
              "   OneHotEncoder__region_northwest  OneHotEncoder__region_southeast  \\\n",
              "0                              0.0                              0.0   \n",
              "1                              0.0                              1.0   \n",
              "2                              0.0                              1.0   \n",
              "3                              1.0                              0.0   \n",
              "4                              1.0                              0.0   \n",
              "\n",
              "   OneHotEncoder__region_southwest  remainder__age  remainder__sex  \\\n",
              "0                              1.0            19.0             0.0   \n",
              "1                              0.0            18.0             1.0   \n",
              "2                              0.0            28.0             1.0   \n",
              "3                              0.0            33.0             1.0   \n",
              "4                              0.0            32.0             1.0   \n",
              "\n",
              "   remainder__bmi  remainder__children  remainder__smoker  remainder__charges  \n",
              "0          27.900                  0.0                0.0         16884.92400  \n",
              "1          33.770                  1.0                0.0          1725.55230  \n",
              "2          33.000                  3.0                0.0          4449.46200  \n",
              "3          22.705                  0.0                0.0         21984.47061  \n",
              "4          28.880                  0.0                0.0          3866.85520  "
            ],
            "text/html": [
              "\n",
              "  <div id=\"df-cdc18d72-c98e-463d-95c8-3c21b1762442\">\n",
              "    <div class=\"colab-df-container\">\n",
              "      <div>\n",
              "<style scoped>\n",
              "    .dataframe tbody tr th:only-of-type {\n",
              "        vertical-align: middle;\n",
              "    }\n",
              "\n",
              "    .dataframe tbody tr th {\n",
              "        vertical-align: top;\n",
              "    }\n",
              "\n",
              "    .dataframe thead th {\n",
              "        text-align: right;\n",
              "    }\n",
              "</style>\n",
              "<table border=\"1\" class=\"dataframe\">\n",
              "  <thead>\n",
              "    <tr style=\"text-align: right;\">\n",
              "      <th></th>\n",
              "      <th>OneHotEncoder__region_northwest</th>\n",
              "      <th>OneHotEncoder__region_southeast</th>\n",
              "      <th>OneHotEncoder__region_southwest</th>\n",
              "      <th>remainder__age</th>\n",
              "      <th>remainder__sex</th>\n",
              "      <th>remainder__bmi</th>\n",
              "      <th>remainder__children</th>\n",
              "      <th>remainder__smoker</th>\n",
              "      <th>remainder__charges</th>\n",
              "    </tr>\n",
              "  </thead>\n",
              "  <tbody>\n",
              "    <tr>\n",
              "      <th>0</th>\n",
              "      <td>0.0</td>\n",
              "      <td>0.0</td>\n",
              "      <td>1.0</td>\n",
              "      <td>19.0</td>\n",
              "      <td>0.0</td>\n",
              "      <td>27.900</td>\n",
              "      <td>0.0</td>\n",
              "      <td>0.0</td>\n",
              "      <td>16884.92400</td>\n",
              "    </tr>\n",
              "    <tr>\n",
              "      <th>1</th>\n",
              "      <td>0.0</td>\n",
              "      <td>1.0</td>\n",
              "      <td>0.0</td>\n",
              "      <td>18.0</td>\n",
              "      <td>1.0</td>\n",
              "      <td>33.770</td>\n",
              "      <td>1.0</td>\n",
              "      <td>0.0</td>\n",
              "      <td>1725.55230</td>\n",
              "    </tr>\n",
              "    <tr>\n",
              "      <th>2</th>\n",
              "      <td>0.0</td>\n",
              "      <td>1.0</td>\n",
              "      <td>0.0</td>\n",
              "      <td>28.0</td>\n",
              "      <td>1.0</td>\n",
              "      <td>33.000</td>\n",
              "      <td>3.0</td>\n",
              "      <td>0.0</td>\n",
              "      <td>4449.46200</td>\n",
              "    </tr>\n",
              "    <tr>\n",
              "      <th>3</th>\n",
              "      <td>1.0</td>\n",
              "      <td>0.0</td>\n",
              "      <td>0.0</td>\n",
              "      <td>33.0</td>\n",
              "      <td>1.0</td>\n",
              "      <td>22.705</td>\n",
              "      <td>0.0</td>\n",
              "      <td>0.0</td>\n",
              "      <td>21984.47061</td>\n",
              "    </tr>\n",
              "    <tr>\n",
              "      <th>4</th>\n",
              "      <td>1.0</td>\n",
              "      <td>0.0</td>\n",
              "      <td>0.0</td>\n",
              "      <td>32.0</td>\n",
              "      <td>1.0</td>\n",
              "      <td>28.880</td>\n",
              "      <td>0.0</td>\n",
              "      <td>0.0</td>\n",
              "      <td>3866.85520</td>\n",
              "    </tr>\n",
              "  </tbody>\n",
              "</table>\n",
              "</div>\n",
              "      <button class=\"colab-df-convert\" onclick=\"convertToInteractive('df-cdc18d72-c98e-463d-95c8-3c21b1762442')\"\n",
              "              title=\"Convert this dataframe to an interactive table.\"\n",
              "              style=\"display:none;\">\n",
              "        \n",
              "  <svg xmlns=\"http://www.w3.org/2000/svg\" height=\"24px\"viewBox=\"0 0 24 24\"\n",
              "       width=\"24px\">\n",
              "    <path d=\"M0 0h24v24H0V0z\" fill=\"none\"/>\n",
              "    <path d=\"M18.56 5.44l.94 2.06.94-2.06 2.06-.94-2.06-.94-.94-2.06-.94 2.06-2.06.94zm-11 1L8.5 8.5l.94-2.06 2.06-.94-2.06-.94L8.5 2.5l-.94 2.06-2.06.94zm10 10l.94 2.06.94-2.06 2.06-.94-2.06-.94-.94-2.06-.94 2.06-2.06.94z\"/><path d=\"M17.41 7.96l-1.37-1.37c-.4-.4-.92-.59-1.43-.59-.52 0-1.04.2-1.43.59L10.3 9.45l-7.72 7.72c-.78.78-.78 2.05 0 2.83L4 21.41c.39.39.9.59 1.41.59.51 0 1.02-.2 1.41-.59l7.78-7.78 2.81-2.81c.8-.78.8-2.07 0-2.86zM5.41 20L4 18.59l7.72-7.72 1.47 1.35L5.41 20z\"/>\n",
              "  </svg>\n",
              "      </button>\n",
              "      \n",
              "  <style>\n",
              "    .colab-df-container {\n",
              "      display:flex;\n",
              "      flex-wrap:wrap;\n",
              "      gap: 12px;\n",
              "    }\n",
              "\n",
              "    .colab-df-convert {\n",
              "      background-color: #E8F0FE;\n",
              "      border: none;\n",
              "      border-radius: 50%;\n",
              "      cursor: pointer;\n",
              "      display: none;\n",
              "      fill: #1967D2;\n",
              "      height: 32px;\n",
              "      padding: 0 0 0 0;\n",
              "      width: 32px;\n",
              "    }\n",
              "\n",
              "    .colab-df-convert:hover {\n",
              "      background-color: #E2EBFA;\n",
              "      box-shadow: 0px 1px 2px rgba(60, 64, 67, 0.3), 0px 1px 3px 1px rgba(60, 64, 67, 0.15);\n",
              "      fill: #174EA6;\n",
              "    }\n",
              "\n",
              "    [theme=dark] .colab-df-convert {\n",
              "      background-color: #3B4455;\n",
              "      fill: #D2E3FC;\n",
              "    }\n",
              "\n",
              "    [theme=dark] .colab-df-convert:hover {\n",
              "      background-color: #434B5C;\n",
              "      box-shadow: 0px 1px 3px 1px rgba(0, 0, 0, 0.15);\n",
              "      filter: drop-shadow(0px 1px 2px rgba(0, 0, 0, 0.3));\n",
              "      fill: #FFFFFF;\n",
              "    }\n",
              "  </style>\n",
              "\n",
              "      <script>\n",
              "        const buttonEl =\n",
              "          document.querySelector('#df-cdc18d72-c98e-463d-95c8-3c21b1762442 button.colab-df-convert');\n",
              "        buttonEl.style.display =\n",
              "          google.colab.kernel.accessAllowed ? 'block' : 'none';\n",
              "\n",
              "        async function convertToInteractive(key) {\n",
              "          const element = document.querySelector('#df-cdc18d72-c98e-463d-95c8-3c21b1762442');\n",
              "          const dataTable =\n",
              "            await google.colab.kernel.invokeFunction('convertToInteractive',\n",
              "                                                     [key], {});\n",
              "          if (!dataTable) return;\n",
              "\n",
              "          const docLinkHtml = 'Like what you see? Visit the ' +\n",
              "            '<a target=\"_blank\" href=https://colab.research.google.com/notebooks/data_table.ipynb>data table notebook</a>'\n",
              "            + ' to learn more about interactive tables.';\n",
              "          element.innerHTML = '';\n",
              "          dataTable['output_type'] = 'display_data';\n",
              "          await google.colab.output.renderOutput(dataTable, element);\n",
              "          const docLink = document.createElement('div');\n",
              "          docLink.innerHTML = docLinkHtml;\n",
              "          element.appendChild(docLink);\n",
              "        }\n",
              "      </script>\n",
              "    </div>\n",
              "  </div>\n",
              "  "
            ]
          },
          "metadata": {},
          "execution_count": 4
        }
      ]
    },
    {
      "cell_type": "code",
      "source": [
        "# Verifico los tipos de datos\n",
        "df2.dtypes"
      ],
      "metadata": {
        "colab": {
          "base_uri": "https://localhost:8080/"
        },
        "id": "obMA2Sfv3BRL",
        "outputId": "7871633c-e4be-446d-cc54-03c57fa4e0f6"
      },
      "execution_count": 5,
      "outputs": [
        {
          "output_type": "execute_result",
          "data": {
            "text/plain": [
              "OneHotEncoder__region_northwest    float64\n",
              "OneHotEncoder__region_southeast    float64\n",
              "OneHotEncoder__region_southwest    float64\n",
              "remainder__age                     float64\n",
              "remainder__sex                     float64\n",
              "remainder__bmi                     float64\n",
              "remainder__children                float64\n",
              "remainder__smoker                  float64\n",
              "remainder__charges                 float64\n",
              "dtype: object"
            ]
          },
          "metadata": {},
          "execution_count": 5
        }
      ]
    },
    {
      "cell_type": "markdown",
      "source": [
        "Todos son float64, estamos bien para continuar"
      ],
      "metadata": {
        "id": "_VgR9ABi3GJc"
      }
    },
    {
      "cell_type": "markdown",
      "source": [
        "## Obtener la variable dependiente y las variables independientes"
      ],
      "metadata": {
        "id": "C26bCLRr3zG1"
      }
    },
    {
      "cell_type": "code",
      "source": [
        "features = ['OneHotEncoder__region_northwest', 'OneHotEncoder__region_southeast',\n",
        "            'OneHotEncoder__region_southwest', 'remainder__age', 'remainder__sex',\n",
        "            'remainder__bmi', 'remainder__children', 'remainder__smoker']\n",
        "x = df2[features]\n",
        "y = df2['remainder__charges']\n",
        "\n",
        "from sklearn.model_selection import train_test_split\n",
        "\n",
        "x_train, x_test, y_train, y_test = train_test_split(x, y, test_size=0.20, random_state=1)\n",
        "\n",
        "print(f'Train: {x_train.shape}')\n",
        "print(f'Test: {x_test.shape}')"
      ],
      "metadata": {
        "colab": {
          "base_uri": "https://localhost:8080/"
        },
        "id": "o1XfeTIp335J",
        "outputId": "bfd030fd-f102-47b0-a977-3de6627f7d32"
      },
      "execution_count": 6,
      "outputs": [
        {
          "output_type": "stream",
          "name": "stdout",
          "text": [
            "Train: (1070, 8)\n",
            "Test: (268, 8)\n"
          ]
        }
      ]
    },
    {
      "cell_type": "code",
      "source": [
        "# Se estandariza el dataset usando 'StandarScaler'\n",
        "name_columns = x_train.columns\n",
        "\n",
        "from sklearn.preprocessing import StandardScaler\n",
        "\n",
        "sc = StandardScaler()\n",
        "x_train = sc.fit_transform(x_train.values) # Solo para datos de entrenamiento se utiliza \"fit_transform\"\n",
        "x_test = sc.transform(x_test.values)\n",
        "\n",
        "# Los datos se transforman a dataframes para mayor comodidad\n",
        "x_train = pd.DataFrame(data=x_train, columns=name_columns)\n",
        "x_test = pd.DataFrame(data=x_test, columns=name_columns)"
      ],
      "metadata": {
        "id": "oPAY9oWO4b0z"
      },
      "execution_count": 7,
      "outputs": []
    },
    {
      "cell_type": "markdown",
      "source": [
        "## Regresión lineal simple"
      ],
      "metadata": {
        "id": "EfJsA05D4oQZ"
      }
    },
    {
      "cell_type": "code",
      "source": [
        "# Se realiza el entrenamiento del modelo\n",
        "from sklearn.linear_model import LinearRegression\n",
        "\n",
        "simple_linear_regression = LinearRegression()\n",
        "simple_linear_regression.fit(x_train, y_train)"
      ],
      "metadata": {
        "colab": {
          "base_uri": "https://localhost:8080/"
        },
        "id": "ecsE6tkS4ro0",
        "outputId": "57c69b40-44b2-4c0c-8ed4-57ee0802360d"
      },
      "execution_count": 8,
      "outputs": [
        {
          "output_type": "execute_result",
          "data": {
            "text/plain": [
              "LinearRegression()"
            ]
          },
          "metadata": {},
          "execution_count": 8
        }
      ]
    },
    {
      "cell_type": "code",
      "source": [
        "# Se imprimen los valores de los coeficientes. Los que son más grandes y tienen\n",
        "# más peso son los que influyen más en la desición de la predicción\n",
        "print(simple_linear_regression.feature_names_in_)\n",
        "print(simple_linear_regression.coef_)"
      ],
      "metadata": {
        "colab": {
          "base_uri": "https://localhost:8080/"
        },
        "id": "4pfYTFvl4y-J",
        "outputId": "9897ff2d-0d9f-4651-cf93-55cc1a5f25f4"
      },
      "execution_count": 9,
      "outputs": [
        {
          "output_type": "stream",
          "name": "stdout",
          "text": [
            "['OneHotEncoder__region_northwest' 'OneHotEncoder__region_southeast'\n",
            " 'OneHotEncoder__region_southwest' 'remainder__age' 'remainder__sex'\n",
            " 'remainder__bmi' 'remainder__children' 'remainder__smoker']\n",
            "[-380.01850591 -112.93379397 -565.62983322 3459.018489    586.31183665\n",
            " 1805.46166939  322.91902786    0.        ]\n"
          ]
        }
      ]
    },
    {
      "cell_type": "markdown",
      "source": [
        "El valor más pesado es `3459.018489` que corresponde a la columna `age`"
      ],
      "metadata": {
        "id": "igCUv2fV5_gV"
      }
    },
    {
      "cell_type": "code",
      "source": [
        "# Se predicen los datos\n",
        "y_pred_train = simple_linear_regression.predict(x_train)\n",
        "y_pred_test = simple_linear_regression.predict(x_test)"
      ],
      "metadata": {
        "id": "BUyEmJoa4u4D"
      },
      "execution_count": 10,
      "outputs": []
    },
    {
      "cell_type": "code",
      "source": [
        "# Encuentro el error cuadrático médio (MSE)\n",
        "import numpy as np\n",
        "from sklearn.metrics import mean_squared_error\n",
        "\n",
        "mse_train_lr = np.sqrt(mean_squared_error(y_train, y_pred_train))\n",
        "mse_test_lr = np.sqrt(mean_squared_error(y_test, y_pred_test))\n",
        "print(f'LinearRegression MSE train: {mse_train_lr}')\n",
        "print(f'LinearRegression MSE test: {mse_test_lr}')"
      ],
      "metadata": {
        "colab": {
          "base_uri": "https://localhost:8080/"
        },
        "id": "VgGI6Mz26f_A",
        "outputId": "0741fb51-572b-47a1-977c-2aa3e308f119"
      },
      "execution_count": 11,
      "outputs": [
        {
          "output_type": "stream",
          "name": "stdout",
          "text": [
            "LinearRegression MSE train: 11330.599663772457\n",
            "LinearRegression MSE test: 11295.382091920017\n"
          ]
        }
      ]
    },
    {
      "cell_type": "markdown",
      "source": [
        "### Conclusiones hasta ahora"
      ],
      "metadata": {
        "id": "PeKDh-htPPk_"
      }
    },
    {
      "cell_type": "markdown",
      "source": [
        "1. ¿Es aceptable el error obtenido?\n",
        "Rta/ No, el modelo tiene mucho error. Si lo llevamos a las unidades de costos y cargos en USD se está equivocando por 11330 USD.\n",
        "\n",
        "2. ¿Hay evidencia de overfitting?\n",
        "Rta/ No, no hay evidencia de overfitting. Tenemos evidencia de underfitting ya que los 2 errores están muy cerca."
      ],
      "metadata": {
        "id": "-PLnLlv4PM7w"
      }
    },
    {
      "cell_type": "markdown",
      "source": [
        "## Gradiente descendente"
      ],
      "metadata": {
        "id": "zyzUv6D_9YYp"
      }
    },
    {
      "cell_type": "markdown",
      "source": [
        "### SGDRegressor sin función de regularización"
      ],
      "metadata": {
        "id": "atwrAoJtATGq"
      }
    },
    {
      "cell_type": "code",
      "source": [
        "# Se realiza el entrenamiento del modelo con penalty=None\n",
        "from sklearn.linear_model import SGDRegressor\n",
        "\n",
        "sgd_regressor = SGDRegressor(penalty=None)\n",
        "sgd_regressor.fit(x_train, y_train)"
      ],
      "metadata": {
        "colab": {
          "base_uri": "https://localhost:8080/"
        },
        "id": "8Jqfx7vU9j_t",
        "outputId": "00e451df-62a4-461f-b258-aebd61e81634"
      },
      "execution_count": 12,
      "outputs": [
        {
          "output_type": "execute_result",
          "data": {
            "text/plain": [
              "SGDRegressor(penalty=None)"
            ]
          },
          "metadata": {},
          "execution_count": 12
        }
      ]
    },
    {
      "cell_type": "code",
      "source": [
        "# Se imprimen los valores de los coeficientes. Los que son más grandes y tienen\n",
        "# más peso son los que influyen más en la desición de la predicción\n",
        "print(sgd_regressor.feature_names_in_)\n",
        "print(sgd_regressor.coef_)"
      ],
      "metadata": {
        "colab": {
          "base_uri": "https://localhost:8080/"
        },
        "id": "xSkYmxte_cdI",
        "outputId": "89cece21-2681-43fe-aacc-87e9c577f462"
      },
      "execution_count": 13,
      "outputs": [
        {
          "output_type": "stream",
          "name": "stdout",
          "text": [
            "['OneHotEncoder__region_northwest' 'OneHotEncoder__region_southeast'\n",
            " 'OneHotEncoder__region_southwest' 'remainder__age' 'remainder__sex'\n",
            " 'remainder__bmi' 'remainder__children' 'remainder__smoker']\n",
            "[-311.26840092 -289.78796821 -433.80743299 3576.28207706  657.36946356\n",
            " 1731.74214275  386.85341777    0.        ]\n"
          ]
        }
      ]
    },
    {
      "cell_type": "markdown",
      "source": [
        "El valor más pesado es `3576.28207706` que corresponde a la columna `age`"
      ],
      "metadata": {
        "id": "KelfO6Qs_gQl"
      }
    },
    {
      "cell_type": "code",
      "source": [
        "# Se predicen los datos\n",
        "y_pred_train = sgd_regressor.predict(x_train)\n",
        "y_pred_test = sgd_regressor.predict(x_test)"
      ],
      "metadata": {
        "id": "bzzXYZ2o_p2C"
      },
      "execution_count": 14,
      "outputs": []
    },
    {
      "cell_type": "code",
      "source": [
        "# Encuentro el error cuadrático médio (MSE)\n",
        "mse_train_sgd = np.sqrt(mean_squared_error(y_train, y_pred_train))\n",
        "mse_test_sgd = np.sqrt(mean_squared_error(y_test, y_pred_test))\n",
        "print(f'SGDRegressor sin regularización MSE train: {mse_train_sgd}')\n",
        "print(f'SGDRegressor sin regularización MSE test: {mse_test_sgd}')"
      ],
      "metadata": {
        "colab": {
          "base_uri": "https://localhost:8080/"
        },
        "id": "hFzfabH-ABQP",
        "outputId": "de501be1-d8f9-4c84-a502-a259d4e35ceb"
      },
      "execution_count": 15,
      "outputs": [
        {
          "output_type": "stream",
          "name": "stdout",
          "text": [
            "SGDRegressor sin regularización MSE train: 11335.444215477337\n",
            "SGDRegressor sin regularización MSE test: 11326.052588192328\n"
          ]
        }
      ]
    },
    {
      "cell_type": "markdown",
      "source": [
        "### SGDRegressor con función de regularización L1"
      ],
      "metadata": {
        "id": "8xhXq5k2Ash6"
      }
    },
    {
      "cell_type": "code",
      "source": [
        "# Se realiza el entrenamiento del modelo con penalty=l1\n",
        "sgd_regressor_l1 = SGDRegressor(penalty='l1')\n",
        "sgd_regressor_l1.fit(x_train, y_train)"
      ],
      "metadata": {
        "colab": {
          "base_uri": "https://localhost:8080/"
        },
        "id": "jAHuoHwnA0n9",
        "outputId": "85173d83-b91c-43af-d41d-ed76ef09b95b"
      },
      "execution_count": 16,
      "outputs": [
        {
          "output_type": "execute_result",
          "data": {
            "text/plain": [
              "SGDRegressor(penalty='l1')"
            ]
          },
          "metadata": {},
          "execution_count": 16
        }
      ]
    },
    {
      "cell_type": "code",
      "source": [
        "# Se imprimen los valores de los coeficientes. Los que son más grandes y tienen\n",
        "# más peso son los que influyen más en la desición de la predicción\n",
        "print(sgd_regressor_l1.feature_names_in_)\n",
        "print(sgd_regressor_l1.coef_)"
      ],
      "metadata": {
        "colab": {
          "base_uri": "https://localhost:8080/"
        },
        "id": "0aLcGvwnBLo0",
        "outputId": "cead7f21-f892-4730-f54a-f1a69a791fd4"
      },
      "execution_count": 17,
      "outputs": [
        {
          "output_type": "stream",
          "name": "stdout",
          "text": [
            "['OneHotEncoder__region_northwest' 'OneHotEncoder__region_southeast'\n",
            " 'OneHotEncoder__region_southwest' 'remainder__age' 'remainder__sex'\n",
            " 'remainder__bmi' 'remainder__children' 'remainder__smoker']\n",
            "[-440.13021201  -48.51278399 -551.85340336 3422.11117213  632.63084645\n",
            " 1826.76805477  295.94955838    0.        ]\n"
          ]
        }
      ]
    },
    {
      "cell_type": "markdown",
      "source": [
        "El valor más pesado es `3422.11117213` que corresponde a la columna `age`\n",
        "\n"
      ],
      "metadata": {
        "id": "DNIoLUvUBTC9"
      }
    },
    {
      "cell_type": "code",
      "source": [
        "# Se predicen los datos\n",
        "y_pred_train = sgd_regressor_l1.predict(x_train)\n",
        "y_pred_test = sgd_regressor_l1.predict(x_test)"
      ],
      "metadata": {
        "id": "owPywN2WBX1Y"
      },
      "execution_count": 18,
      "outputs": []
    },
    {
      "cell_type": "code",
      "source": [
        "# Encuentro el error cuadrático médio (MSE)\n",
        "mse_train_sgd_l1 = np.sqrt(mean_squared_error(y_train, y_pred_train))\n",
        "mse_test_sgd_l1 = np.sqrt(mean_squared_error(y_test, y_pred_test))\n",
        "print(f'SGDRegressor con L1 MSE train: {mse_train_sgd_l1}')\n",
        "print(f'SGDRegressor con L1 MSE test: {mse_test_sgd_l1}')"
      ],
      "metadata": {
        "colab": {
          "base_uri": "https://localhost:8080/"
        },
        "id": "rhrn2kDuBgbO",
        "outputId": "73cec444-bf20-4228-fcae-d01e0cf201a9"
      },
      "execution_count": 19,
      "outputs": [
        {
          "output_type": "stream",
          "name": "stdout",
          "text": [
            "SGDRegressor con L1 MSE train: 11331.45787823787\n",
            "SGDRegressor con L1 MSE test: 11287.974717054609\n"
          ]
        }
      ]
    },
    {
      "cell_type": "markdown",
      "source": [
        "## Transformación polinomial"
      ],
      "metadata": {
        "id": "1cPQ0BsQBrfp"
      }
    },
    {
      "cell_type": "markdown",
      "source": [
        "### Con 2 grados"
      ],
      "metadata": {
        "id": "fwif7mwZHag9"
      }
    },
    {
      "cell_type": "code",
      "source": [
        "# Inicio con 2 grados\n",
        "from sklearn.preprocessing import PolynomialFeatures\n",
        "\n",
        "poly_features = PolynomialFeatures(degree=2, include_bias=False)\n",
        "x_poly = poly_features.fit_transform(x)"
      ],
      "metadata": {
        "id": "nCTwFKV7B0tn"
      },
      "execution_count": 20,
      "outputs": []
    },
    {
      "cell_type": "code",
      "source": [
        "# Obtener variable dependiente y variables independientes\n",
        "x_train, x_test, y_train, y_test = train_test_split(x_poly, y, test_size=0.20, random_state=1)\n",
        "\n",
        "print(f'Train: {x_train.shape}')\n",
        "print(f'Test: {x_test.shape}')"
      ],
      "metadata": {
        "colab": {
          "base_uri": "https://localhost:8080/"
        },
        "id": "alNAEsOmFbLt",
        "outputId": "c208faa3-6203-4748-fb27-a3fb7d4dbfe7"
      },
      "execution_count": 21,
      "outputs": [
        {
          "output_type": "stream",
          "name": "stdout",
          "text": [
            "Train: (1070, 44)\n",
            "Test: (268, 44)\n"
          ]
        }
      ]
    },
    {
      "cell_type": "code",
      "source": [
        "# Se estandariza el dataset usando 'StandarScaler'\n",
        "sc = StandardScaler()\n",
        "x_train = sc.fit_transform(x_train) # Solo para datos de entrenamiento se utiliza \"fit_transform\"\n",
        "x_test = sc.transform(x_test)"
      ],
      "metadata": {
        "id": "adeky1UcJh9P"
      },
      "execution_count": 22,
      "outputs": []
    },
    {
      "cell_type": "markdown",
      "source": [
        "#### Gradiente descendente con función de regularización l1"
      ],
      "metadata": {
        "id": "JW7L3F-mECyp"
      }
    },
    {
      "cell_type": "code",
      "source": [
        "# Se realiza el entrenamiento del modelo con penalty=l1, alpha=0.1/m\n",
        "m = 1070\n",
        "sgd_regressor_l1 = SGDRegressor(penalty='l1', alpha=0.1/m)\n",
        "sgd_regressor_l1.fit(x_train, y_train)"
      ],
      "metadata": {
        "colab": {
          "base_uri": "https://localhost:8080/"
        },
        "id": "C5nZBRp4EL2a",
        "outputId": "a72096a7-9423-4593-8219-bbc42e7b6dd9"
      },
      "execution_count": 23,
      "outputs": [
        {
          "output_type": "execute_result",
          "data": {
            "text/plain": [
              "SGDRegressor(alpha=9.345794392523365e-05, penalty='l1')"
            ]
          },
          "metadata": {},
          "execution_count": 23
        }
      ]
    },
    {
      "cell_type": "code",
      "source": [
        "# Se predicen los datos\n",
        "y_pred_train = sgd_regressor_l1.predict(x_train)\n",
        "y_pred_test = sgd_regressor_l1.predict(x_test)"
      ],
      "metadata": {
        "id": "TbAvinknGKtc"
      },
      "execution_count": 24,
      "outputs": []
    },
    {
      "cell_type": "code",
      "source": [
        "# Encuentro el error cuadrático médio (MSE)\n",
        "mse_train_sgd_2g_l1 = np.sqrt(mean_squared_error(y_train, y_pred_train))\n",
        "mse_test_sgd_2g_l1 = np.sqrt(mean_squared_error(y_test, y_pred_test))\n",
        "print(f'SGDRegressor 2 grados, L1 y alpha=0.1/m MSE train: {mse_train_sgd_2g_l1}')\n",
        "print(f'SGDRegressor 2 grados, L1 y alpha=0.1/m MSE test: {mse_test_sgd_2g_l1}')"
      ],
      "metadata": {
        "colab": {
          "base_uri": "https://localhost:8080/"
        },
        "id": "uL_WyZBsGOnM",
        "outputId": "3dade16e-4387-45d2-9603-602a2c5ac102"
      },
      "execution_count": 25,
      "outputs": [
        {
          "output_type": "stream",
          "name": "stdout",
          "text": [
            "SGDRegressor 2 grados, L1 y alpha=0.1/m MSE train: 11262.778734267225\n",
            "SGDRegressor 2 grados, L1 y alpha=0.1/m MSE test: 11430.175358779212\n"
          ]
        }
      ]
    },
    {
      "cell_type": "markdown",
      "source": [
        "#### Gradiente descendente con función de regularización l2"
      ],
      "metadata": {
        "id": "P_QRSRstGtqP"
      }
    },
    {
      "cell_type": "code",
      "source": [
        "# Se realiza el entrenamiento del modelo con penalty=l2, alpha=0.01/m\n",
        "m = 1070\n",
        "sgd_regressor_l2 = SGDRegressor(penalty='l2', alpha=0.01/m)\n",
        "sgd_regressor_l2.fit(x_train, y_train)"
      ],
      "metadata": {
        "colab": {
          "base_uri": "https://localhost:8080/"
        },
        "id": "oAyVpn9VGzkb",
        "outputId": "0e7970d5-a039-4a37-a4a0-63338c3f168d"
      },
      "execution_count": 26,
      "outputs": [
        {
          "output_type": "execute_result",
          "data": {
            "text/plain": [
              "SGDRegressor(alpha=9.345794392523365e-06)"
            ]
          },
          "metadata": {},
          "execution_count": 26
        }
      ]
    },
    {
      "cell_type": "code",
      "source": [
        "# Se predicen los datos\n",
        "y_pred_train = sgd_regressor_l2.predict(x_train)\n",
        "y_pred_test = sgd_regressor_l2.predict(x_test)"
      ],
      "metadata": {
        "id": "ZpaBNIuwHEJZ"
      },
      "execution_count": 27,
      "outputs": []
    },
    {
      "cell_type": "code",
      "source": [
        "# Encuentro el error cuadrático médio (MSE)\n",
        "mse_train_sgd_2g_l2 = np.sqrt(mean_squared_error(y_train, y_pred_train))\n",
        "mse_test_sgd_2g_l2 = np.sqrt(mean_squared_error(y_test, y_pred_test))\n",
        "print(f'SGDRegressor 2 grados, L2 y alpha=0.01/m MSE train: {mse_train_sgd_2g_l2}')\n",
        "print(f'SGDRegressor 2 grados, L2 y alpha=0.01/m MSE test: {mse_test_sgd_2g_l2}')"
      ],
      "metadata": {
        "colab": {
          "base_uri": "https://localhost:8080/"
        },
        "id": "uMBrqZkWHKcG",
        "outputId": "6e368b56-baa5-461e-ca95-80629420afe8"
      },
      "execution_count": 28,
      "outputs": [
        {
          "output_type": "stream",
          "name": "stdout",
          "text": [
            "SGDRegressor 2 grados, L2 y alpha=0.01/m MSE train: 11281.571541178728\n",
            "SGDRegressor 2 grados, L2 y alpha=0.01/m MSE test: 11486.53481883472\n"
          ]
        }
      ]
    },
    {
      "cell_type": "markdown",
      "source": [
        "### Con 5 grados"
      ],
      "metadata": {
        "id": "MpstXnAHHwyJ"
      }
    },
    {
      "cell_type": "code",
      "source": [
        "# Ahora con 5 grados\n",
        "poly_features = PolynomialFeatures(degree=5, include_bias=False)\n",
        "x_poly = poly_features.fit_transform(x)"
      ],
      "metadata": {
        "id": "yxJkEzQdHz6T"
      },
      "execution_count": 29,
      "outputs": []
    },
    {
      "cell_type": "code",
      "source": [
        "# Obtener variable dependiente y variables independientes\n",
        "x_train, x_test, y_train, y_test = train_test_split(x_poly, y, test_size=0.20, random_state=1)\n",
        "\n",
        "print(f'Train: {x_train.shape}')\n",
        "print(f'Test: {x_test.shape}')"
      ],
      "metadata": {
        "colab": {
          "base_uri": "https://localhost:8080/"
        },
        "id": "_pyYfjOgH6Ro",
        "outputId": "25f40850-99f3-41d2-b3ab-b7cefe119c5f"
      },
      "execution_count": 30,
      "outputs": [
        {
          "output_type": "stream",
          "name": "stdout",
          "text": [
            "Train: (1070, 1286)\n",
            "Test: (268, 1286)\n"
          ]
        }
      ]
    },
    {
      "cell_type": "code",
      "source": [
        "# Se estandariza el dataset usando 'StandarScaler'\n",
        "sc = StandardScaler()\n",
        "x_train = sc.fit_transform(x_train) # Solo para datos de entrenamiento se utiliza \"fit_transform\"\n",
        "x_test = sc.transform(x_test)"
      ],
      "metadata": {
        "id": "cNDVIybRKDkD"
      },
      "execution_count": 31,
      "outputs": []
    },
    {
      "cell_type": "markdown",
      "source": [
        "#### Gradiente descendente con función de regularización l1"
      ],
      "metadata": {
        "id": "54QyA9fhIEnF"
      }
    },
    {
      "cell_type": "code",
      "source": [
        "# Se realiza el entrenamiento del modelo con penalty=l1, alpha=0.2/m\n",
        "m = 1070\n",
        "sgd_regressor_l1 = SGDRegressor(penalty='l1', alpha=0.2/m)\n",
        "sgd_regressor_l1.fit(x_train, y_train)"
      ],
      "metadata": {
        "colab": {
          "base_uri": "https://localhost:8080/"
        },
        "id": "UJ8pC-qdIGSN",
        "outputId": "277f5da0-35ce-417b-cbcd-8936595a8848"
      },
      "execution_count": 32,
      "outputs": [
        {
          "output_type": "execute_result",
          "data": {
            "text/plain": [
              "SGDRegressor(alpha=0.0001869158878504673, penalty='l1')"
            ]
          },
          "metadata": {},
          "execution_count": 32
        }
      ]
    },
    {
      "cell_type": "code",
      "source": [
        "# Se predicen los datos\n",
        "y_pred_train = sgd_regressor_l1.predict(x_train)\n",
        "y_pred_test = sgd_regressor_l1.predict(x_test)"
      ],
      "metadata": {
        "id": "W0QTGISgIZOq"
      },
      "execution_count": 33,
      "outputs": []
    },
    {
      "cell_type": "code",
      "source": [
        "# Encuentro el error cuadrático médio (MSE)\n",
        "mse_train_sgd_5g_l1 = np.sqrt(mean_squared_error(y_train, y_pred_train))\n",
        "mse_test_sgd_5g_l1 = np.sqrt(mean_squared_error(y_test, y_pred_test))\n",
        "print(f'SGDRegressor 5 grados, L1 y alpha=0.2/m MSE train: {mse_train_sgd_5g_l1}')\n",
        "print(f'SGDRegressor 5 grados, L1 y alpha=0.2/m MSE test: {mse_test_sgd_5g_l1}')"
      ],
      "metadata": {
        "colab": {
          "base_uri": "https://localhost:8080/"
        },
        "id": "22DVHPR6Ib_h",
        "outputId": "748301d4-4853-48fe-f3ab-52dceb95a72f"
      },
      "execution_count": 34,
      "outputs": [
        {
          "output_type": "stream",
          "name": "stdout",
          "text": [
            "SGDRegressor 5 grados, L1 y alpha=0.2/m MSE train: 64419123708.09778\n",
            "SGDRegressor 5 grados, L1 y alpha=0.2/m MSE test: 48211477480.66672\n"
          ]
        }
      ]
    },
    {
      "cell_type": "markdown",
      "source": [
        "#### Gradiente descendente con función de regularización l2"
      ],
      "metadata": {
        "id": "GIX7FYkjIi1B"
      }
    },
    {
      "cell_type": "code",
      "source": [
        "# Se realiza el entrenamiento del modelo con penalty=l2, alpha=0.02/m\n",
        "m = 1070\n",
        "sgd_regressor_l2 = SGDRegressor(penalty='l2', alpha=0.02/m)\n",
        "sgd_regressor_l2.fit(x_train, y_train)"
      ],
      "metadata": {
        "colab": {
          "base_uri": "https://localhost:8080/"
        },
        "id": "ddNZP4kvIiHr",
        "outputId": "4fb3232b-daf4-47f2-f4b1-010b05feb8c5"
      },
      "execution_count": 35,
      "outputs": [
        {
          "output_type": "execute_result",
          "data": {
            "text/plain": [
              "SGDRegressor(alpha=1.869158878504673e-05)"
            ]
          },
          "metadata": {},
          "execution_count": 35
        }
      ]
    },
    {
      "cell_type": "code",
      "source": [
        "# Se predicen los datos\n",
        "y_pred_train = sgd_regressor_l2.predict(x_train)\n",
        "y_pred_test = sgd_regressor_l2.predict(x_test)"
      ],
      "metadata": {
        "id": "8RJ-NTBxItQN"
      },
      "execution_count": 36,
      "outputs": []
    },
    {
      "cell_type": "code",
      "source": [
        "# Encuentro el error cuadrático médio (MSE)\n",
        "mse_train_sgd_5g_l2 = np.sqrt(mean_squared_error(y_train, y_pred_train))\n",
        "mse_test_sgd_5g_l2 = np.sqrt(mean_squared_error(y_test, y_pred_test))\n",
        "print(f'SGDRegressor 5 grados, L2 y alpha=0.02/m MSE train: {mse_train_sgd_5g_l2}')\n",
        "print(f'SGDRegressor 5 grados, L2 y alpha=0.02/m MSE test: {mse_test_sgd_5g_l2}')"
      ],
      "metadata": {
        "colab": {
          "base_uri": "https://localhost:8080/"
        },
        "id": "_iZXTy-eIx6Y",
        "outputId": "f37ffafd-da03-4d8c-8f3f-eacb56bfca54"
      },
      "execution_count": 37,
      "outputs": [
        {
          "output_type": "stream",
          "name": "stdout",
          "text": [
            "SGDRegressor 5 grados, L2 y alpha=0.02/m MSE train: 23971499653.601357\n",
            "SGDRegressor 5 grados, L2 y alpha=0.02/m MSE test: 23299439048.57683\n"
          ]
        }
      ]
    },
    {
      "cell_type": "markdown",
      "source": [
        "## Resumen de MSE obtenidos"
      ],
      "metadata": {
        "id": "iPmnnuFPQybT"
      }
    },
    {
      "cell_type": "code",
      "source": [
        "print(f'LinearRegression MSE train: {mse_train_lr}')\n",
        "print(f'LinearRegression MSE test: {mse_test_lr}')\n",
        "print('')\n",
        "print(f'SGDRegressor sin regularización MSE train: {mse_train_sgd}')\n",
        "print(f'SGDRegressor sin regularización MSE test: {mse_test_sgd}')\n",
        "print('')\n",
        "print(f'SGDRegressor con L1 MSE train: {mse_train_sgd_l1}')\n",
        "print(f'SGDRegressor con L1 MSE test: {mse_test_sgd_l1}')\n",
        "print('')\n",
        "print(f'SGDRegressor 2 grados, L1 y alpha=0.1/m MSE train: {mse_train_sgd_2g_l1}')\n",
        "print(f'SGDRegressor 2 grados, L1 y alpha=0.1/m MSE test: {mse_test_sgd_2g_l1}')\n",
        "print('')\n",
        "print(f'SGDRegressor 2 grados, L2 y alpha=0.01/m MSE train: {mse_train_sgd_2g_l2}')\n",
        "print(f'SGDRegressor 2 grados, L2 y alpha=0.01/m MSE test: {mse_test_sgd_2g_l2}')\n",
        "print('')\n",
        "print(f'SGDRegressor 5 grados, L1 y alpha=0.2/m MSE train: {mse_train_sgd_5g_l1}')\n",
        "print(f'SGDRegressor 5 grados, L1 y alpha=0.2/m  MSE test: {mse_test_sgd_5g_l1}')\n",
        "print('')\n",
        "print(f'SGDRegressor 5 grados, L2 y alpha=0.02/m MSE train: {mse_train_sgd_5g_l2}')\n",
        "print(f'SGDRegressor 5 grados, L2 y alpha=0.02/m MSE test: {mse_test_sgd_5g_l2}')"
      ],
      "metadata": {
        "colab": {
          "base_uri": "https://localhost:8080/"
        },
        "id": "kYdySKbxRHvD",
        "outputId": "75d39d45-f368-4245-f951-e2bf2d94426b"
      },
      "execution_count": 38,
      "outputs": [
        {
          "output_type": "stream",
          "name": "stdout",
          "text": [
            "LinearRegression MSE train: 11330.599663772457\n",
            "LinearRegression MSE test: 11295.382091920017\n",
            "\n",
            "SGDRegressor sin regularización MSE train: 11335.444215477337\n",
            "SGDRegressor sin regularización MSE test: 11326.052588192328\n",
            "\n",
            "SGDRegressor con L1 MSE train: 11331.45787823787\n",
            "SGDRegressor con L1 MSE test: 11287.974717054609\n",
            "\n",
            "SGDRegressor 2 grados, L1 y alpha=0.1/m MSE train: 11262.778734267225\n",
            "SGDRegressor 2 grados, L1 y alpha=0.1/m MSE test: 11430.175358779212\n",
            "\n",
            "SGDRegressor 2 grados, L2 y alpha=0.01/m MSE train: 11281.571541178728\n",
            "SGDRegressor 2 grados, L2 y alpha=0.01/m MSE test: 11486.53481883472\n",
            "\n",
            "SGDRegressor 5 grados, L1 y alpha=0.2/m MSE train: 64419123708.09778\n",
            "SGDRegressor 5 grados, L1 y alpha=0.2/m  MSE test: 48211477480.66672\n",
            "\n",
            "SGDRegressor 5 grados, L2 y alpha=0.02/m MSE train: 23971499653.601357\n",
            "SGDRegressor 5 grados, L2 y alpha=0.02/m MSE test: 23299439048.57683\n"
          ]
        }
      ]
    },
    {
      "cell_type": "markdown",
      "source": [
        "## Conclusiones"
      ],
      "metadata": {
        "id": "Lplx4HeAQu5U"
      }
    },
    {
      "cell_type": "markdown",
      "source": [
        "1. Si fue posible mejorar el error encontrado en el primer modelo que fue con LinearRegression (MSE train: 11330.599663772457), el modelo que lo mejoró fue SGDRegressor con 2 grados en la transformación polinomial, regularización L1 y alpha=0.1/m (MSE train: 11262.778734267225), sin embargo la diferencia no fue mucha.\n",
        "2. Los hiper parámetros del modelo con el menor error son 2 grados en la transformación polinomial, regularización L1 y alpha=0.1/m.\n",
        "3. Los atributos que parecen ser más importantes son aplicar la regularización y utilizar pocos grados en la transformación polinomial. Con muchos grados en la transformación polinomial el error sube demasiado."
      ],
      "metadata": {
        "id": "9JJHXBGBV1px"
      }
    }
  ]
}